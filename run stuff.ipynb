{
 "cells": [
  {
   "cell_type": "code",
   "execution_count": 1,
   "id": "50900700",
   "metadata": {},
   "outputs": [],
   "source": [
    "import os\n",
    "import numpy as np\n",
    "import subprocess\n",
    "from tqdm.auto import tqdm\n",
    "import pandas as pd\n",
    "from joblib import Parallel, delayed\n",
    "\n",
    "epochs = 100\n",
    "datasets = [\"cornell\", \"texas\", \"wisconsin\", \"chameleon\", \"cora\"]\n",
    "def scompatt(output):\n",
    "    l = output.decode(\"utf-8\") .split(\"\\n\")\n",
    "    mod_w = l[4].split(\"MOD_W:  \")[1]\n",
    "    accuracy = l[6].split(\"Test accuracy: \")[1].split(\", \")[0]\n",
    "    loss = l[7].split(\"Test loss: \")[1].split(\", \")[0]\n",
    "    precision = l[8].split(\"Test precision: \")[1].split(\", \")[0]\n",
    "    recall = l[9].split(\"Test recall: \")[1].split(\", \")[0]\n",
    "    return float(mod_w), float(accuracy), float(loss), float(precision), float(recall)"
   ]
  },
  {
   "cell_type": "markdown",
   "id": "dd082121",
   "metadata": {},
   "source": [
    "## MODULARITY"
   ]
  },
  {
   "cell_type": "code",
   "execution_count": 2,
   "id": "92088fb0",
   "metadata": {},
   "outputs": [],
   "source": [
    "def single_run(dataset, epochs, mod_w):\n",
    "    base_command_1 = \"python3 -u node_class_community.py --data \" + dataset + \" --epoch \" + str(epochs) + \" --mod_w \"\n",
    "    base_command_2 = \" --layer 3 --w_att 0.001 --w_fc2 0.0 --w_fc1 0.001 --dropout 0.25 --lr_fc 0.01 --lr_att 0.01 --layer_norm 1 --dev 0 \"\n",
    "    \n",
    "    command = base_command_1 + str(mod_w) + base_command_2\n",
    "    output = subprocess.check_output(command, shell=True)\n",
    "    return scompatt(output)\n",
    "    \n",
    "\n",
    "df = {\"mod_w\": [],\n",
    "     \"accuracy\": [],\n",
    "     \"loss\": [],\n",
    "      \"precision\":[],\n",
    "     \"recall\": []}\n",
    "for dataset in [\"chameleon\"]:\n",
    "    results = Parallel(n_jobs=-1)(delayed(single_run)(dataset, epochs, round(i, 2)) for i in np.arange(0, 1.1, 0.1))\n",
    "    for x in results:\n",
    "        mod_w, a, l, p ,r = x\n",
    "        df[\"mod_w\"].append(mod_w)\n",
    "        df[\"accuracy\"].append(a)\n",
    "        df[\"loss\"].append(l)\n",
    "        df[\"precision\"].append(p)\n",
    "        df[\"recall\"].append(r)\n",
    "    pd.DataFrame.from_dict(df).to_csv(\"results/nope-\" + dataset + \"-\" + str(epochs) + \".csv\", index=False)"
   ]
  },
  {
   "cell_type": "markdown",
   "id": "23e3bc25",
   "metadata": {},
   "source": [
    "# JACCARD"
   ]
  },
  {
   "cell_type": "code",
   "execution_count": null,
   "id": "70ab3053",
   "metadata": {},
   "outputs": [
    {
     "name": "stdout",
     "output_type": "stream",
     "text": [
      "cornell\n",
      "texas\n",
      "wisconsin\n",
      "chameleon\n"
     ]
    }
   ],
   "source": [
    "def single_run(dataset, epochs, mod_w):\n",
    "    base_command_1 = \"python3 -u node_class_jaccard.py --data \" + dataset + \" --epoch \" + str(epochs) + \" --mod_w \"\n",
    "    base_command_2 = \" --layer 3 --w_att 0.001 --w_fc2 0.0 --w_fc1 0.001 --dropout 0.25 --lr_fc 0.01 --lr_att 0.01 --layer_norm 1 --dev 0 \"\n",
    "    \n",
    "    command = base_command_1 + str(mod_w) + base_command_2\n",
    "    output = subprocess.check_output(command, shell=True)\n",
    "    return scompatt(output)\n",
    "    \n",
    "\n",
    "for dataset in datasets:\n",
    "    print(dataset)\n",
    "    df = {\"mod_w\": [],\n",
    "         \"accuracy\": [],\n",
    "         \"loss\": [],\n",
    "          \"precision\":[],\n",
    "         \"recall\": []}\n",
    "    results = Parallel(n_jobs=-1)(delayed(single_run)(dataset, epochs, round(i, 2)) for i in np.arange(0, 1.1, 0.1))\n",
    "    for x in results:\n",
    "        mod_w, a, l, p ,r = x\n",
    "        df[\"mod_w\"].append(mod_w)\n",
    "        df[\"accuracy\"].append(a)\n",
    "        df[\"loss\"].append(l)\n",
    "        df[\"precision\"].append(p)\n",
    "        df[\"recall\"].append(r)\n",
    "    pd.DataFrame.from_dict(df).to_csv(\"results/jaccard-\" + dataset + \"-\" + str(epochs) + \".csv\", index=False)"
   ]
  },
  {
   "cell_type": "markdown",
   "id": "1394b5c4",
   "metadata": {},
   "source": [
    "## CLUSTERING"
   ]
  },
  {
   "cell_type": "code",
   "execution_count": null,
   "id": "f456d8e9",
   "metadata": {},
   "outputs": [
    {
     "name": "stdout",
     "output_type": "stream",
     "text": [
      "texas\n",
      "wisconsin\n",
      "chameleon\n"
     ]
    }
   ],
   "source": [
    "def single_run(dataset, epochs, mod_w):\n",
    "    base_command_1 = \"python3 -u node_class_clustering.py --data \" + dataset + \" --epoch \" + str(epochs) + \" --mod_w \"\n",
    "    base_command_2 = \" --layer 3 --w_att 0.001 --w_fc2 0.0 --w_fc1 0.001 --dropout 0.25 --lr_fc 0.01 --lr_att 0.01 --layer_norm 1 --dev 0 \"\n",
    "    \n",
    "    command = base_command_1 + str(mod_w) + base_command_2\n",
    "    output = subprocess.check_output(command, shell=True)\n",
    "    return scompatt(output)\n",
    "    \n",
    "\n",
    "for dataset in datasets[1:]:\n",
    "    print(dataset)\n",
    "    df = {\"mod_w\": [],\n",
    "         \"accuracy\": [],\n",
    "         \"loss\": [],\n",
    "          \"precision\":[],\n",
    "         \"recall\": []}\n",
    "    results = Parallel(n_jobs=-1)(delayed(single_run)(dataset, epochs, round(i, 2)) for i in np.arange(0, 1.1, 0.1))\n",
    "    for x in results:\n",
    "        mod_w, a, l, p ,r = x\n",
    "        df[\"mod_w\"].append(mod_w)\n",
    "        df[\"accuracy\"].append(a)\n",
    "        df[\"loss\"].append(l)\n",
    "        df[\"precision\"].append(p)\n",
    "        df[\"recall\"].append(r)\n",
    "    pd.DataFrame.from_dict(df).to_csv(\"results/average_clustering-\" + dataset + \"-\" + str(epochs) + \".csv\", index=False)"
   ]
  },
  {
   "cell_type": "markdown",
   "id": "4240029f",
   "metadata": {},
   "source": [
    "## CENTRALITY"
   ]
  },
  {
   "cell_type": "code",
   "execution_count": null,
   "id": "a3c73068",
   "metadata": {},
   "outputs": [
    {
     "name": "stdout",
     "output_type": "stream",
     "text": [
      "cornell\n",
      "texas\n",
      "wisconsin\n",
      "chameleon\n"
     ]
    }
   ],
   "source": [
    "def single_run(dataset, epochs, mod_w):\n",
    "    base_command_1 = \"python3 -u node_class_centrality.py --data \" + dataset + \" --epoch \" + str(epochs) + \" --mod_w \"\n",
    "    base_command_2 = \" --layer 3 --w_att 0.001 --w_fc2 0.0 --w_fc1 0.001 --dropout 0.25 --lr_fc 0.01 --lr_att 0.01 --layer_norm 1 --dev 0 \"\n",
    "    \n",
    "    command = base_command_1 + str(mod_w) + base_command_2\n",
    "    output = subprocess.check_output(command, shell=True)\n",
    "    return scompatt(output)\n",
    "    \n",
    "\n",
    "for dataset in datasets:\n",
    "    print(dataset)\n",
    "    df = {\"mod_w\": [],\n",
    "         \"accuracy\": [],\n",
    "         \"loss\": [],\n",
    "          \"precision\":[],\n",
    "         \"recall\": []}\n",
    "    results = Parallel(n_jobs=-1)(delayed(single_run)(dataset, epochs, round(i, 2)) for i in np.arange(0, 1.1, 0.1))\n",
    "    for x in results:\n",
    "        mod_w, a, l, p ,r = x\n",
    "        df[\"mod_w\"].append(mod_w)\n",
    "        df[\"accuracy\"].append(a)\n",
    "        df[\"loss\"].append(l)\n",
    "        df[\"precision\"].append(p)\n",
    "        df[\"recall\"].append(r)\n",
    "    pd.DataFrame.from_dict(df).to_csv(\"results/centrality-\" + dataset + \"-\" + str(epochs) + \".csv\", index=False)"
   ]
  },
  {
   "cell_type": "code",
   "execution_count": null,
   "id": "11e539eb",
   "metadata": {},
   "outputs": [],
   "source": []
  }
 ],
 "metadata": {
  "kernelspec": {
   "display_name": "Python 3 (ipykernel)",
   "language": "python",
   "name": "python3"
  },
  "language_info": {
   "codemirror_mode": {
    "name": "ipython",
    "version": 3
   },
   "file_extension": ".py",
   "mimetype": "text/x-python",
   "name": "python",
   "nbconvert_exporter": "python",
   "pygments_lexer": "ipython3",
   "version": "3.9.5"
  }
 },
 "nbformat": 4,
 "nbformat_minor": 5
}
