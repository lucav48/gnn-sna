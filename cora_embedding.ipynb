{
 "cells": [
  {
   "cell_type": "code",
   "execution_count": 31,
   "metadata": {},
   "outputs": [],
   "source": [
    "import pandas as pd\n",
    "from scipy.spatial.distance import euclidean\n",
    "from process import *\n",
    "from utils import *\n",
    "from model import *"
   ]
  },
  {
   "cell_type": "code",
   "execution_count": 32,
   "metadata": {},
   "outputs": [],
   "source": [
    "#prendo i dati relativi al dataset\n",
    "device='cpu'\n",
    "layer=3\n",
    "adj, adj_i, features, labels, idx_train, idx_val, idx_test, num_features, num_labels, g = full_load_data_custom('cora','splits/cora_split_0.6_0.2_0.npz')\n",
    "features = features.to(device)\n",
    "\n",
    "# processo la matrice di adiacenza del grafo per darlo in input alla rete\n",
    "adj = adj.to(device)\n",
    "adj_i = adj_i.to(device)\n",
    "list_mat = []\n",
    "list_mat.append(features)\n",
    "no_loop_mat = features\n",
    "loop_mat = features\n",
    "\n",
    "for ii in range(layer):\n",
    "    no_loop_mat = torch.spmm(adj, no_loop_mat)\n",
    "    loop_mat = torch.spmm(adj_i, loop_mat)\n",
    "    list_mat.append(no_loop_mat)\n",
    "    list_mat.append(loop_mat)"
   ]
  },
  {
   "cell_type": "code",
   "execution_count": 33,
   "metadata": {},
   "outputs": [
    {
     "data": {
      "text/plain": [
       "<All keys matched successfully>"
      ]
     },
     "execution_count": 33,
     "metadata": {},
     "output_type": "execute_result"
    }
   ],
   "source": [
    "layer_norm=bool(1)\n",
    "# Define the path to the saved model checkpoint\n",
    "PATH = \"trained_epochs/cora5.pt\"\n",
    "GNNcora=FSGNN(nfeat=num_features,\n",
    "                nlayers=len(list_mat),\n",
    "                nhidden=64,\n",
    "                nclass=num_labels,\n",
    "                dropout=0.6).to(device)\n",
    "GNNcora.load_state_dict(torch.load(PATH))"
   ]
  },
  {
   "cell_type": "code",
   "execution_count": 34,
   "metadata": {},
   "outputs": [],
   "source": [
    "#prendo l'embedding dalla rete\n",
    "GNNcora.eval()\n",
    "out = GNNcora.emb(list_mat, layer_norm)\n",
    "#torch.save(out,'cora\\emb_cora25.pt')\n"
   ]
  },
  {
   "cell_type": "code",
   "execution_count": 35,
   "metadata": {},
   "outputs": [
    {
     "data": {
      "text/plain": [
       "torch.Size([2708, 448])"
      ]
     },
     "execution_count": 35,
     "metadata": {},
     "output_type": "execute_result"
    }
   ],
   "source": [
    "out.shape"
   ]
  },
  {
   "cell_type": "code",
   "execution_count": 36,
   "metadata": {},
   "outputs": [
    {
     "data": {
      "text/html": [
       "<div>\n",
       "<style scoped>\n",
       "    .dataframe tbody tr th:only-of-type {\n",
       "        vertical-align: middle;\n",
       "    }\n",
       "\n",
       "    .dataframe tbody tr th {\n",
       "        vertical-align: top;\n",
       "    }\n",
       "\n",
       "    .dataframe thead th {\n",
       "        text-align: right;\n",
       "    }\n",
       "</style>\n",
       "<table border=\"1\" class=\"dataframe\">\n",
       "  <thead>\n",
       "    <tr style=\"text-align: right;\">\n",
       "      <th></th>\n",
       "      <th>source</th>\n",
       "      <th>target</th>\n",
       "      <th>weight</th>\n",
       "    </tr>\n",
       "  </thead>\n",
       "  <tbody>\n",
       "    <tr>\n",
       "      <th>0</th>\n",
       "      <td>0</td>\n",
       "      <td>633</td>\n",
       "      <td>1</td>\n",
       "    </tr>\n",
       "    <tr>\n",
       "      <th>1</th>\n",
       "      <td>0</td>\n",
       "      <td>1862</td>\n",
       "      <td>1</td>\n",
       "    </tr>\n",
       "    <tr>\n",
       "      <th>2</th>\n",
       "      <td>0</td>\n",
       "      <td>2582</td>\n",
       "      <td>1</td>\n",
       "    </tr>\n",
       "    <tr>\n",
       "      <th>3</th>\n",
       "      <td>1</td>\n",
       "      <td>2</td>\n",
       "      <td>1</td>\n",
       "    </tr>\n",
       "    <tr>\n",
       "      <th>4</th>\n",
       "      <td>1</td>\n",
       "      <td>652</td>\n",
       "      <td>1</td>\n",
       "    </tr>\n",
       "    <tr>\n",
       "      <th>...</th>\n",
       "      <td>...</td>\n",
       "      <td>...</td>\n",
       "      <td>...</td>\n",
       "    </tr>\n",
       "    <tr>\n",
       "      <th>5273</th>\n",
       "      <td>2679</td>\n",
       "      <td>2682</td>\n",
       "      <td>1</td>\n",
       "    </tr>\n",
       "    <tr>\n",
       "      <th>5274</th>\n",
       "      <td>2681</td>\n",
       "      <td>2683</td>\n",
       "      <td>1</td>\n",
       "    </tr>\n",
       "    <tr>\n",
       "      <th>5275</th>\n",
       "      <td>2687</td>\n",
       "      <td>2688</td>\n",
       "      <td>1</td>\n",
       "    </tr>\n",
       "    <tr>\n",
       "      <th>5276</th>\n",
       "      <td>2694</td>\n",
       "      <td>2695</td>\n",
       "      <td>1</td>\n",
       "    </tr>\n",
       "    <tr>\n",
       "      <th>5277</th>\n",
       "      <td>2706</td>\n",
       "      <td>2707</td>\n",
       "      <td>1</td>\n",
       "    </tr>\n",
       "  </tbody>\n",
       "</table>\n",
       "<p>5278 rows × 3 columns</p>\n",
       "</div>"
      ],
      "text/plain": [
       "      source  target  weight\n",
       "0          0     633       1\n",
       "1          0    1862       1\n",
       "2          0    2582       1\n",
       "3          1       2       1\n",
       "4          1     652       1\n",
       "...      ...     ...     ...\n",
       "5273    2679    2682       1\n",
       "5274    2681    2683       1\n",
       "5275    2687    2688       1\n",
       "5276    2694    2695       1\n",
       "5277    2706    2707       1\n",
       "\n",
       "[5278 rows x 3 columns]"
      ]
     },
     "execution_count": 36,
     "metadata": {},
     "output_type": "execute_result"
    }
   ],
   "source": [
    "#trasformo la matrice di adiacenza in grafo\n",
    "G = nx.Graph(g)\n",
    "adj_mat=pd.DataFrame(columns=['target','source'])\n",
    "adj_mat = nx.to_pandas_edgelist(G)\n",
    "adj_mat = adj_mat[adj_mat['source']!=adj_mat['target']]\n",
    "adj_mat"
   ]
  },
  {
   "cell_type": "code",
   "execution_count": 37,
   "metadata": {},
   "outputs": [],
   "source": [
    "#definizione distanza manhattan\n",
    "import numpy as np\n",
    "\n",
    "def manhattan_distance(arr1, arr2):\n",
    "    \"\"\"\n",
    "    Calculates the Manhattan distance between two arrays of the same length.\n",
    "    \"\"\"\n",
    "    return np.sum(np.abs(arr1 - arr2))"
   ]
  },
  {
   "cell_type": "code",
   "execution_count": 38,
   "metadata": {},
   "outputs": [
    {
     "data": {
      "text/plain": [
       "\"#aggiungo i pesi ottenuti dall'embedding\\ndf_emb = pd.DataFrame(out.detach().numpy(), columns=['feature_' + str(x) for x in range(448)])\\nadj_mat['weight'] = adj_mat.apply(lambda x:\\n                                    manhattan_distance(df_emb.loc[x['target']].values,\\n                                    df_emb.loc[x['source']].values),\\n                                    axis=1)\\nadj_mat.to_csv('cora\\\\cora_weights.csv', index = False)\""
      ]
     },
     "execution_count": 38,
     "metadata": {},
     "output_type": "execute_result"
    }
   ],
   "source": [
    "'''#aggiungo i pesi ottenuti dall'embedding\n",
    "df_emb = pd.DataFrame(out.detach().numpy(), columns=['feature_' + str(x) for x in range(448)])\n",
    "adj_mat['weight'] = adj_mat.apply(lambda x:\n",
    "                                    manhattan_distance(df_emb.loc[x['target']].values,\n",
    "                                    df_emb.loc[x['source']].values),\n",
    "                                    axis=1)\n",
    "adj_mat.to_csv('cora\\cora_weights.csv', index = False)'''"
   ]
  },
  {
   "cell_type": "code",
   "execution_count": 39,
   "metadata": {},
   "outputs": [],
   "source": [
    "#aggiungo i pesi ottenuti dall'embedding\n",
    "from sklearn.metrics.pairwise import cosine_similarity\n",
    "\n",
    "df_emb = pd.DataFrame(out.detach().numpy(), columns=['feature_' + str(x) for x in range(448)])\n",
    "adj_mat['weight'] = adj_mat.apply(lambda x:\n",
    "                                    cosine_similarity(np.array([df_emb.iloc[x['target']]]),\n",
    "                                    np.array([df_emb.iloc[x['source']]]))[0][0],\n",
    "                                    axis=1)\n",
    "adj_mat.to_csv('weight_epochs/cora_cosine_weights5.csv', index = False)"
   ]
  },
  {
   "cell_type": "code",
   "execution_count": null,
   "metadata": {},
   "outputs": [],
   "source": [
    "#label della rete \n",
    "pd.DataFrame(labels.numpy(),columns=['label']).to_csv('weight_epochs/cora_labels.csv', index = False)"
   ]
  }
 ],
 "metadata": {
  "kernelspec": {
   "display_name": "base",
   "language": "python",
   "name": "python3"
  },
  "language_info": {
   "codemirror_mode": {
    "name": "ipython",
    "version": 3
   },
   "file_extension": ".py",
   "mimetype": "text/x-python",
   "name": "python",
   "nbconvert_exporter": "python",
   "pygments_lexer": "ipython3",
   "version": "3.10.9"
  },
  "orig_nbformat": 4
 },
 "nbformat": 4,
 "nbformat_minor": 2
}
